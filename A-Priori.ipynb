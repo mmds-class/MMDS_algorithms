{
 "metadata": {
  "name": "",
  "signature": "sha256:2e517b4f3e7d977c7e51b1641ddf43a1c2699c924a900584f49ea9e060755423"
 },
 "nbformat": 3,
 "nbformat_minor": 0,
 "worksheets": [
  {
   "cells": [
    {
     "cell_type": "heading",
     "level": 1,
     "metadata": {},
     "source": [
      "A-Priori"
     ]
    },
    {
     "cell_type": "heading",
     "level": 3,
     "metadata": {},
     "source": [
      "Definition"
     ]
    },
    {
     "cell_type": "markdown",
     "metadata": {},
     "source": [
      "A-Priori is a memory eficient algorithm that select the itemsets in a set of baskets that have frequency larger than a threshold called \"support\". First, the algorithm makes a \"data pass\" thru all baskets to select the items whose frequency is larget than the support. Then it makes a second data pass to select the pair of items whose frequency is larger than the support. And so on, until the algorithm reaches the desired itemset size.\n",
      "\n",
      "It's important to note that the frequent itemsets found in each datapass are stored in memory to be used in the next data pass. Concretely, if item 132 was frequent in the first data pass, it is a candidate for the next data pass since we may find that items (132, 144) are frequent too. On the other hand, if item 222 is not frequent in the first data pass, there is no need to include it in the second data pass because there is no way it will become frequent when joined with another item.\n",
      "\n",
      "This algorithm avoids doing a cross product comparision which would require O(n^2) memory. The memory used by this algorithm depends on the support chosen, but it's typically low. "
     ]
    },
    {
     "cell_type": "heading",
     "level": 3,
     "metadata": {},
     "source": [
      "Implementation"
     ]
    },
    {
     "cell_type": "markdown",
     "metadata": {},
     "source": [
      "We will use a dataset that has one basket per line. Each item is separated by a space. Let's take a look at the first 10 lines:"
     ]
    },
    {
     "cell_type": "code",
     "collapsed": false,
     "input": [
      "import urllib\n",
      "\n",
      "file_location, headers = urllib.urlretrieve(\"http://snap.stanford.edu/class/cs246-data/browsing.txt\")\n",
      "with open(file_location, 'r') as f:\n",
      "    i = 0\n",
      "    for line in f:\n",
      "        print line,\n",
      "        i+=1\n",
      "        if i==10:\n",
      "            break"
     ],
     "language": "python",
     "metadata": {},
     "outputs": [
      {
       "output_type": "stream",
       "stream": "stdout",
       "text": [
        "FRO11987 ELE17451 ELE89019 SNA90258 GRO99222 \n",
        "GRO99222 GRO12298 FRO12685 ELE91550 SNA11465 ELE26917 ELE52966 FRO90334 SNA30755 ELE17451 FRO84225 SNA80192 \n",
        "ELE17451 GRO73461 DAI22896 SNA99873 FRO86643 \n",
        "ELE17451 ELE37798 FRO86643 GRO56989 ELE23393 SNA11465 \n",
        "ELE17451 SNA69641 FRO86643 FRO78087 SNA11465 GRO39357 ELE28573 ELE11375 DAI54444 \n",
        "ELE17451 GRO73461 DAI22896 SNA99873 FRO18919 DAI50921 SNA80192 GRO75578 \n",
        "ELE17451 ELE59935 FRO18919 ELE23393 SNA80192 SNA85662 SNA91554 DAI22177 \n",
        "ELE17451 SNA69641 FRO18919 SNA90258 ELE28573 ELE11375 DAI14125 FRO78087 \n",
        "ELE17451 GRO73461 DAI22896 SNA80192 SNA85662 SNA90258 DAI46755 FRO81176 ELE66810 DAI49199 DAI91535 GRO94758 ELE94711 DAI22177 \n",
        "ELE17451 SNA69641 DAI91535 GRO94758 GRO99222 FRO76833 FRO81176 SNA80192 DAI54690 ELE37798 GRO56989 \n"
       ]
      }
     ],
     "prompt_number": 38
    },
    {
     "cell_type": "markdown",
     "metadata": {},
     "source": [
      "Now, we need to define the function that selects frequent itemsets in each pass."
     ]
    },
    {
     "cell_type": "code",
     "collapsed": false,
     "input": [
      "def data_pass(file_location, support, pass_nbr, candidate_dct):\n",
      "    with open(file_location, 'r') as f:\n",
      "        for line in f:\n",
      "            item_lst = line.split()     \n",
      "            candidate_dct = update_candidates(item_lst, candidate_dct, pass_nbr)\n",
      "        \n",
      "    candidate_dct = clear_items(candidate_dct, support, pass_nbr)\n",
      "    \n",
      "    return candidate_dct"
     ],
     "language": "python",
     "metadata": {},
     "outputs": [],
     "prompt_number": 32
    },
    {
     "cell_type": "markdown",
     "metadata": {},
     "source": [
      "The function above takes the itemsets from the previous pass as a dictionary whose key is the itemset and value is the frequency (candidate_dct).\n",
      "\n",
      "While passing thru the data, the candidates_dct is updated by the update_candidates function. Finally, the new candidate_dct will have all new updated itemsets no matter the frequency. The function clear_items removes all itemsets with frequency below the support.\n",
      "\n",
      "Here is the implementation of update_candidates:"
     ]
    },
    {
     "cell_type": "code",
     "collapsed": false,
     "input": [
      "from itertools import combinations\n",
      "\n",
      "def update_candidates(item_lst, candidate_dct, pass_nbr):\n",
      "    if pass_nbr==1:\n",
      "        for item in item_lst:\n",
      "            candidate_dct[(item,)]+=1\n",
      "    else:\n",
      "        frequent_items_set = set()\n",
      "        for item_tuple in combinations(sorted(item_lst), pass_nbr-1):    \n",
      "            if item_tuple in candidate_dct:\n",
      "                frequent_items_set.update(item_tuple)\n",
      "                    \n",
      "        for item_set in combinations(sorted(frequent_items_set), pass_nbr):\n",
      "            candidate_dct[item_set]+=1\n",
      "        \n",
      "    return candidate_dct"
     ],
     "language": "python",
     "metadata": {},
     "outputs": [],
     "prompt_number": 33
    },
    {
     "cell_type": "markdown",
     "metadata": {},
     "source": [
      "Here is the implementation of clear_items:"
     ]
    },
    {
     "cell_type": "code",
     "collapsed": false,
     "input": [
      "def clear_items(candidate_dct, support, pass_nbr):\n",
      "    for item_tuple, cnt in candidate_dct.items():\n",
      "        if cnt<support or len(item_tuple)<pass_nbr:\n",
      "            del candidate_dct[item_tuple]\n",
      "    return candidate_dct"
     ],
     "language": "python",
     "metadata": {},
     "outputs": [],
     "prompt_number": 34
    },
    {
     "cell_type": "markdown",
     "metadata": {},
     "source": [
      "Let's define a main function than calls each data pass."
     ]
    },
    {
     "cell_type": "code",
     "collapsed": false,
     "input": [
      "import time\n",
      "from collections import defaultdict\n",
      "\n",
      "def main(file_location, support, itemset_size):\n",
      "    candidate_dct = defaultdict(lambda: 0)\n",
      "    for i in range(itemset_size):\n",
      "        now = time.time()\n",
      "        candidate_dct = data_pass(file_location, support, pass_nbr=i+1, candidate_dct=candidate_dct)\n",
      "        print \"pass number %i took %f and found %i candidates\" % (i+1, time.time()-now, len(candidate_dct))\n",
      "    return candidate_dct"
     ],
     "language": "python",
     "metadata": {},
     "outputs": [],
     "prompt_number": 35
    },
    {
     "cell_type": "markdown",
     "metadata": {},
     "source": [
      "Ok, we are done. Let's find the frequent datasets of size 3, with a support of 100. "
     ]
    },
    {
     "cell_type": "code",
     "collapsed": false,
     "input": [
      "support = 100\n",
      "itemset_size = 3\n",
      "itemsets_dct = main(file_location, support, itemset_size)"
     ],
     "language": "python",
     "metadata": {},
     "outputs": [
      {
       "output_type": "stream",
       "stream": "stdout",
       "text": [
        "pass number 1 took 0.201515 and found 647 candidates\n",
        "pass number 2 took 1.467497 and found 1334 candidates"
       ]
      },
      {
       "output_type": "stream",
       "stream": "stdout",
       "text": [
        "\n",
        "pass number 3 took 2.726719 and found 233 candidates"
       ]
      },
      {
       "output_type": "stream",
       "stream": "stdout",
       "text": [
        "\n"
       ]
      }
     ],
     "prompt_number": 36
    },
    {
     "cell_type": "markdown",
     "metadata": {},
     "source": [
      "Now let's print 10 random itemsets and their frequency."
     ]
    },
    {
     "cell_type": "code",
     "collapsed": false,
     "input": [
      "i=0\n",
      "for itemset, frequency in itemsets_dct.iteritems():\n",
      "    print itemset, frequency\n",
      "    i+=1\n",
      "    if i==10:\n",
      "        break"
     ],
     "language": "python",
     "metadata": {},
     "outputs": [
      {
       "output_type": "stream",
       "stream": "stdout",
       "text": [
        "('FRO40251', 'GRO85051', 'SNA80324') 471\n",
        "('DAI85309', 'ELE17451', 'ELE92920') 137\n",
        "('DAI75645', 'FRO40251', 'SNA55762') 131\n",
        "('DAI75645', 'ELE74009', 'FRO40251') 139\n",
        "('DAI31081', 'FRO40251', 'GRO85051') 102\n",
        "('DAI62779', 'GRO21487', 'GRO73461') 173\n",
        "('DAI62779', 'GRO38814', 'GRO73461') 154\n",
        "('DAI62779', 'ELE17451', 'SNA96271') 111\n",
        "('ELE17451', 'FRO40251', 'GRO73461') 159\n",
        "('DAI75645', 'SNA55762', 'SNA80324') 117\n"
       ]
      }
     ],
     "prompt_number": 37
    },
    {
     "cell_type": "markdown",
     "metadata": {},
     "source": [
      "That's it!!"
     ]
    }
   ],
   "metadata": {}
  }
 ]
}